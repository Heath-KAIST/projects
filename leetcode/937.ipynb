{
 "metadata": {
  "language_info": {
   "codemirror_mode": {
    "name": "ipython",
    "version": 3
   },
   "file_extension": ".py",
   "mimetype": "text/x-python",
   "name": "python",
   "nbconvert_exporter": "python",
   "pygments_lexer": "ipython3",
   "version": "3.8.3-final"
  },
  "orig_nbformat": 2,
  "kernelspec": {
   "name": "python3",
   "display_name": "Python 3",
   "language": "python"
  }
 },
 "nbformat": 4,
 "nbformat_minor": 2,
 "cells": [
  {
   "cell_type": "code",
   "execution_count": 1,
   "metadata": {},
   "outputs": [],
   "source": [
    "logs = ['dig1 8 1 5 1', 'let1 art can', 'dig2 3 6', 'let2 own kit dig', 'let3 art zero']"
   ]
  },
  {
   "cell_type": "code",
   "execution_count": 35,
   "metadata": {},
   "outputs": [
    {
     "output_type": "execute_result",
     "data": {
      "text/plain": [
       "['dig2 3 6',\n",
       " 'dig1 8 1 5 1',\n",
       " 'let1 art can',\n",
       " 'let3 art zero',\n",
       " 'let2 own kit dig']"
      ]
     },
     "metadata": {},
     "execution_count": 35
    }
   ],
   "source": [
    "digit = []\n",
    "letter = []\n",
    "\n",
    "for log in logs:\n",
    "    if log.split()[0][0] == 'd':  # if digit\n",
    "        digit.append(log)\n",
    "    else:\n",
    "        letter.append(log)\n",
    "\n",
    "res = sorted(digit, key=lambda x: (x.split(' ')[1], x.split(' ')[0]) ) \\\n",
    "    + sorted(letter, key=lambda x: (x.split(' ')[1], x.split(' ')[0]) )\n",
    "\n",
    "res"
   ]
  }
 ]
}