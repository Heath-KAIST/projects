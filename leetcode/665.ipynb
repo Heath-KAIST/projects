{
 "metadata": {
  "language_info": {
   "codemirror_mode": {
    "name": "ipython",
    "version": 3
   },
   "file_extension": ".py",
   "mimetype": "text/x-python",
   "name": "python",
   "nbconvert_exporter": "python",
   "pygments_lexer": "ipython3",
   "version": "3.8.3-final"
  },
  "orig_nbformat": 2,
  "kernelspec": {
   "name": "python3",
   "display_name": "Python 3",
   "language": "python"
  }
 },
 "nbformat": 4,
 "nbformat_minor": 2,
 "cells": [
  {
   "cell_type": "code",
   "execution_count": 1,
   "metadata": {},
   "outputs": [],
   "source": [
    "nums = [4,2,3]\n",
    "nums = [3,4,2,3]\n",
    "nums = [5,7,1,8]\n",
    "nums = [-1,4,2,3]"
   ]
  },
  {
   "cell_type": "code",
   "execution_count": 14,
   "metadata": {},
   "outputs": [],
   "source": [
    "def check_possibility(nums: list) -> bool:  \n",
    "    \n",
    "    # 당기를 바꿀 것인가 차기를 바꿀 것인가 \n",
    "    \n",
    "    # [3,4,2,3]\n",
    "    # [5,7,1,8]\n",
    "    # [-1,4,2,3] - 4를 바꿨으나 4 2 3 에서 실제로 숫자가 바뀐 건 아니라 에러 \n",
    "    \n",
    "    changes = 0\n",
    "    for i in range(len(nums)-1):\n",
    "        # print(nums[i])\n",
    "        if nums[i+1] < nums[i]:\n",
    "            changes += 1\n",
    "            if changes > 1:\n",
    "                return False\n",
    "            \n",
    "            if i>0 and nums[i+1] < nums[i-1]:\n",
    "                # print(nums[i+1], 'changed into', nums[i])\n",
    "                nums[i+1] = nums[i]\n",
    "            else:\n",
    "                # print('else', nums[i], 'changed into', nums[i+1])\n",
    "                nums[i] = nums[i+1]\n",
    "                            \n",
    "    return True"
   ]
  },
  {
   "cell_type": "code",
   "execution_count": 15,
   "metadata": {},
   "outputs": [
    {
     "output_type": "execute_result",
     "data": {
      "text/plain": [
       "True"
      ]
     },
     "metadata": {},
     "execution_count": 15
    }
   ],
   "source": [
    "check_possibility(nums=nums)"
   ]
  },
  {
   "cell_type": "code",
   "execution_count": null,
   "metadata": {},
   "outputs": [],
   "source": []
  }
 ]
}