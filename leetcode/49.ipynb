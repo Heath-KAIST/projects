{
 "metadata": {
  "language_info": {
   "codemirror_mode": {
    "name": "ipython",
    "version": 3
   },
   "file_extension": ".py",
   "mimetype": "text/x-python",
   "name": "python",
   "nbconvert_exporter": "python",
   "pygments_lexer": "ipython3",
   "version": "3.8.3-final"
  },
  "orig_nbformat": 2,
  "kernelspec": {
   "name": "python3",
   "display_name": "Python 3",
   "language": "python"
  }
 },
 "nbformat": 4,
 "nbformat_minor": 2,
 "cells": [
  {
   "cell_type": "code",
   "execution_count": 1,
   "metadata": {},
   "outputs": [],
   "source": [
    "inp = ['eat', 'tea', 'tan', 'ate', 'nat', 'bat']"
   ]
  },
  {
   "cell_type": "code",
   "execution_count": 79,
   "metadata": {},
   "outputs": [
    {
     "output_type": "stream",
     "name": "stdout",
     "text": [
      "[['eat', 'tea', 'ate'], ['tan', 'nat'], ['bat']]\n"
     ]
    }
   ],
   "source": [
    "import collections\n",
    "\n",
    "dic = collections.defaultdict(list)\n",
    "\n",
    "for i in inp:\n",
    "    key = ''.join(sorted(list(i)))  # 'aet'\n",
    "    dic[key] = dic[key] + [i]\n",
    "\n",
    "res = []\n",
    "for k in dic:\n",
    "    res.append(dic[k])\n",
    "\n",
    "print(res)"
   ]
  }
 ]
}